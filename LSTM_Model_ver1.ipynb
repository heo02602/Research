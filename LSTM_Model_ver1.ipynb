{
  "nbformat": 4,
  "nbformat_minor": 0,
  "metadata": {
    "colab": {
      "provenance": [],
      "collapsed_sections": [],
      "authorship_tag": "ABX9TyNaa8yvgRAf0gP38BKfQJvT",
      "include_colab_link": true
    },
    "kernelspec": {
      "name": "python3",
      "display_name": "Python 3"
    },
    "language_info": {
      "name": "python"
    },
    "accelerator": "GPU"
  },
  "cells": [
    {
      "cell_type": "markdown",
      "metadata": {
        "id": "view-in-github",
        "colab_type": "text"
      },
      "source": [
        "<a href=\"https://colab.research.google.com/github/heo02602/Research/blob/main/LSTM_Model_ver1.ipynb\" target=\"_parent\"><img src=\"https://colab.research.google.com/assets/colab-badge.svg\" alt=\"Open In Colab\"/></a>"
      ]
    },
    {
      "cell_type": "code",
      "source": [
        "import tensorflow as tf\n",
        "from keras.preprocessing import sequence\n",
        "from keras.models import Sequential, Model\n",
        "from keras.layers import Input, Dense, Permute, Flatten, LSTM, Multiply\n",
        "from keras.datasets import imdb\n",
        "\n",
        "import time\n",
        "from matplotlib import pyplot as plt\n",
        "import numpy as np"
      ],
      "metadata": {
        "id": "prBl1sBVkDUB"
      },
      "execution_count": null,
      "outputs": []
    },
    {
      "cell_type": "code",
      "source": [
        "start_time = time.time()\n",
        "\n",
        "max_features = 10000\n",
        "max_len = 800\n",
        "batch_size = 32"
      ],
      "metadata": {
        "id": "lM9yAug91iGF"
      },
      "execution_count": null,
      "outputs": []
    },
    {
      "cell_type": "code",
      "source": [
        "print('Loading the data...')\n",
        "(x_train, y_train), (x_test, y_test) = imdb.load_data(num_words=max_features)\n",
        "\n",
        "print(len(x_train), 'train data sequences')\n",
        "print(len(x_test), 'test data sequences')"
      ],
      "metadata": {
        "colab": {
          "base_uri": "https://localhost:8080/"
        },
        "id": "e-RS7oZq1lwz",
        "outputId": "ec2c58ef-9722-40b6-adb1-5e4ddb9a68f3"
      },
      "execution_count": null,
      "outputs": [
        {
          "output_type": "stream",
          "name": "stdout",
          "text": [
            "Loading the data...\n",
            "25000 train data sequences\n",
            "25000 test data sequences\n"
          ]
        }
      ]
    },
    {
      "cell_type": "code",
      "source": [
        "print('Pad sequences (samples x time)')\n",
        "x_train = sequence.pad_sequences(x_train, maxlen=max_len)\n",
        "x_test = sequence.pad_sequences(x_test, maxlen=max_len)\n",
        "\n",
        "print('x_train shape', x_train.shape)\n",
        "print('x_test shape', x_test.shape)"
      ],
      "metadata": {
        "colab": {
          "base_uri": "https://localhost:8080/"
        },
        "id": "wJNQmjMm2ENl",
        "outputId": "43389386-cd6c-4c76-d8cc-7ec8af958ccf"
      },
      "execution_count": null,
      "outputs": [
        {
          "output_type": "stream",
          "name": "stdout",
          "text": [
            "Pad sequences (samples x time)\n",
            "x_train shape (25000, 800)\n",
            "x_test shape (25000, 800)\n"
          ]
        }
      ]
    },
    {
      "cell_type": "code",
      "source": [
        "inputs = Input(shape=(800, 300))\n",
        "lstm = LSTM(32, return_sequences=True)(inputs)\n",
        "p1 = Permute((2, 1))(lstm)\n",
        "d1 = Dense(800)(p1)\n",
        "p2 = Permute((2, 1))(d1)\n",
        "mul = Multiply()([lstm, p2])\n",
        "f = Flatten()(mul)\n",
        "outputs = Dense(1)(f)\n",
        "\n",
        "model = Model(inputs=inputs, outputs=outputs)\n",
        "\n",
        "model.compile(\n",
        "    loss='binary_crossentropy',\n",
        "    optimizer='adam',\n",
        "    metrics=['accuracy']\n",
        ")\n",
        "\n",
        "model.summary()"
      ],
      "metadata": {
        "id": "VFIJCqB0494H",
        "colab": {
          "base_uri": "https://localhost:8080/"
        },
        "outputId": "1d31a3d0-5895-43ea-eaef-d400fa50e5bb"
      },
      "execution_count": null,
      "outputs": [
        {
          "output_type": "stream",
          "name": "stdout",
          "text": [
            "Model: \"model_1\"\n",
            "__________________________________________________________________________________________________\n",
            " Layer (type)                   Output Shape         Param #     Connected to                     \n",
            "==================================================================================================\n",
            " input_2 (InputLayer)           [(None, 800, 300)]   0           []                               \n",
            "                                                                                                  \n",
            " lstm_1 (LSTM)                  (None, 800, 32)      42624       ['input_2[0][0]']                \n",
            "                                                                                                  \n",
            " permute_2 (Permute)            (None, 32, 800)      0           ['lstm_1[0][0]']                 \n",
            "                                                                                                  \n",
            " dense_2 (Dense)                (None, 32, 800)      640800      ['permute_2[0][0]']              \n",
            "                                                                                                  \n",
            " permute_3 (Permute)            (None, 800, 32)      0           ['dense_2[0][0]']                \n",
            "                                                                                                  \n",
            " multiply_1 (Multiply)          (None, 800, 32)      0           ['lstm_1[0][0]',                 \n",
            "                                                                  'permute_3[0][0]']              \n",
            "                                                                                                  \n",
            " flatten_1 (Flatten)            (None, 25600)        0           ['multiply_1[0][0]']             \n",
            "                                                                                                  \n",
            " dense_3 (Dense)                (None, 1)            25601       ['flatten_1[0][0]']              \n",
            "                                                                                                  \n",
            "==================================================================================================\n",
            "Total params: 709,025\n",
            "Trainable params: 709,025\n",
            "Non-trainable params: 0\n",
            "__________________________________________________________________________________________________\n"
          ]
        }
      ]
    },
    {
      "cell_type": "code",
      "source": [],
      "metadata": {
        "id": "cyaMDk4Ev3c9"
      },
      "execution_count": null,
      "outputs": []
    }
  ]
}